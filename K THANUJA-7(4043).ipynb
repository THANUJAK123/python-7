{
 "cells": [
  {
   "cell_type": "markdown",
   "metadata": {},
   "source": [
    "### 1:fibonacci series"
   ]
  },
  {
   "cell_type": "code",
   "execution_count": 2,
   "metadata": {},
   "outputs": [
    {
     "name": "stdout",
     "output_type": "stream",
     "text": [
      "enter a num5\n",
      "0\n",
      "1\n",
      "1\n",
      "2\n",
      "3\n"
     ]
    }
   ],
   "source": [
    "n=int(input('enter a num'))\n",
    "a=0\n",
    "b=1\n",
    "sum=0\n",
    "count=1\n",
    "while(count<=n):\n",
    "    print(sum)\n",
    "    count+=1\n",
    "    a=b\n",
    "    b=sum\n",
    "    sum=a+b"
   ]
  },
  {
   "cell_type": "markdown",
   "metadata": {},
   "source": [
    "## 2:sum and avg"
   ]
  },
  {
   "cell_type": "code",
   "execution_count": 4,
   "metadata": {},
   "outputs": [
    {
     "name": "stdout",
     "output_type": "stream",
     "text": [
      "input some integers \n",
      "enter the num: 1\n",
      "enter the num: 2\n",
      "enter the num: 3\n",
      "enter the num: 4\n",
      "enter the num: 5\n",
      "enter the num: 6\n",
      "enter the num: 7\n",
      "enter the num: 8\n",
      "enter the num: 9\n",
      "enter the num: 10\n",
      "enter the num: 0\n",
      "avg and sum of the num:  5.5 55\n"
     ]
    }
   ],
   "source": [
    "print('input some integers ')\n",
    "\n",
    "sum=0\n",
    "count=0\n",
    "n=1\n",
    "\n",
    "while n!=0:\n",
    "    n=int(input('enter the num: '))\n",
    "    sum=sum+n\n",
    "    count+=1\n",
    "    \n",
    "if count==0:\n",
    "    print(\"input some integers\")\n",
    "else:\n",
    "    print(\"avg and sum of the num: \",sum/(count-1),sum)"
   ]
  },
  {
   "cell_type": "markdown",
   "metadata": {},
   "source": [
    "#### 3:patters in 1 to 10 and its avg"
   ]
  },
  {
   "cell_type": "code",
   "execution_count": 5,
   "metadata": {},
   "outputs": [
    {
     "name": "stdout",
     "output_type": "stream",
     "text": [
      "enter no of rows: 4\n",
      "1 \n",
      "\n",
      "2 3 \n",
      "\n",
      "4 5 6 \n",
      "\n",
      "7 8 9 10 \n",
      "\n",
      "10\n",
      "55\n",
      "avg is:  5.5\n"
     ]
    }
   ],
   "source": [
    "n=int(input(\"enter no of rows: \"))\n",
    "num=1\n",
    "count=0\n",
    "sum=0\n",
    "for i in range(0,n):\n",
    "    for j in range(0,i+1):\n",
    "        print(num, end=\" \")\n",
    "        num+=1\n",
    "        sum+=num\n",
    "        count+=1\n",
    "    print(\"\\n\")\n",
    "    \n",
    "print(count)\n",
    "k=sum-count\n",
    "print(k)\n",
    "avg=k/count\n",
    "print(\"avg is: \",avg)"
   ]
  },
  {
   "cell_type": "markdown",
   "metadata": {},
   "source": [
    "### 3:pattern program"
   ]
  },
  {
   "cell_type": "code",
   "execution_count": 6,
   "metadata": {},
   "outputs": [
    {
     "name": "stdout",
     "output_type": "stream",
     "text": [
      "enter no of rows: 6\n",
      "* \n",
      "\n",
      "* * \n",
      "\n",
      "* * * \n",
      "\n",
      "* * * * \n",
      "\n",
      "* * * * * \n",
      "\n",
      "* * * * * * \n",
      "\n"
     ]
    }
   ],
   "source": [
    "n=int(input(\"enter no of rows: \"))\n",
    "for i in range(0,n):\n",
    "    for j in range(0,i+1):\n",
    "        print(\"*\", end=\" \")\n",
    "    print(\"\\n\")"
   ]
  },
  {
   "cell_type": "markdown",
   "metadata": {},
   "source": [
    "#### 4:count the charecters"
   ]
  },
  {
   "cell_type": "code",
   "execution_count": 7,
   "metadata": {},
   "outputs": [
    {
     "name": "stdout",
     "output_type": "stream",
     "text": [
      "enter a string: how are you\n",
      "11\n"
     ]
    }
   ],
   "source": [
    "str=input(\"enter a string: \")\n",
    "count=0\n",
    "for i in str:\n",
    "    count=count+1\n",
    "    \n",
    "print(count)"
   ]
  },
  {
   "cell_type": "markdown",
   "metadata": {},
   "source": [
    "### 5;substring in string"
   ]
  },
  {
   "cell_type": "code",
   "execution_count": 1,
   "metadata": {},
   "outputs": [
    {
     "name": "stdout",
     "output_type": "stream",
     "text": [
      "enter a string: thanuja\n",
      "enter a substring; thanj\n"
     ]
    },
    {
     "data": {
      "text/plain": [
       "False"
      ]
     },
     "execution_count": 1,
     "metadata": {},
     "output_type": "execute_result"
    }
   ],
   "source": [
    "str1=input(\"enter a string: \")\n",
    "str2=input(\"enter a substring; \")\n",
    "str2 in str1"
   ]
  },
  {
   "cell_type": "markdown",
   "metadata": {},
   "source": [
    "### 6:upper and lower"
   ]
  },
  {
   "cell_type": "code",
   "execution_count": 2,
   "metadata": {},
   "outputs": [
    {
     "name": "stdout",
     "output_type": "stream",
     "text": [
      "enter a s1: tHaNuJa\n",
      "THANUJA\n",
      "thanuja\n"
     ]
    }
   ],
   "source": [
    "s1=str(input(\"enter a s1: \"))\n",
    "print(s1.upper())\n",
    "print(s1.lower())"
   ]
  },
  {
   "cell_type": "markdown",
   "metadata": {},
   "source": [
    "#### 7:number of charecters"
   ]
  },
  {
   "cell_type": "code",
   "execution_count": null,
   "metadata": {},
   "outputs": [],
   "source": [
    "s1=str(input(\"enter a string: \"))\n",
    "print(len(s1))"
   ]
  },
  {
   "cell_type": "code",
   "execution_count": null,
   "metadata": {},
   "outputs": [],
   "source": []
  }
 ],
 "metadata": {
  "kernelspec": {
   "display_name": "Python 3",
   "language": "python",
   "name": "python3"
  },
  "language_info": {
   "codemirror_mode": {
    "name": "ipython",
    "version": 3
   },
   "file_extension": ".py",
   "mimetype": "text/x-python",
   "name": "python",
   "nbconvert_exporter": "python",
   "pygments_lexer": "ipython3",
   "version": "3.7.6"
  }
 },
 "nbformat": 4,
 "nbformat_minor": 4
}
